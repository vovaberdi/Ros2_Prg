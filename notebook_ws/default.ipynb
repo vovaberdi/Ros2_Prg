{
 "cells": [
  {
   "cell_type": "markdown",
   "metadata": {},
   "source": [
    "<div class=\"jumbotron m-0\">\n",
    "    <hr />\n",
    "    <h1 class=\"text-center\">\n",
    "        <span class=\"text-primary\">ROS2 Basics in 5 Days: Course Project</span>\n",
    "    </h1>\n",
    "    <hr />\n",
    "</div>"
   ]
  },
  {
   "cell_type": "markdown",
   "metadata": {},
   "source": [
    "<img src=\"ros2_basics_details.png\" width=\"400\"/>"
   ]
  },
  {
   "cell_type": "markdown",
   "metadata": {},
   "source": [
    "<div class=\"bg-primary text-center\">\n",
    "    - Summary -\n",
    "</div>"
   ]
  },
  {
   "cell_type": "markdown",
   "metadata": {},
   "source": [
    "**In this rosject, you will have to apply all that you have learned throughout the ROS2 Basics course to a real robot.**\n",
    "\n",
    "- You will practice with a simulation and a real robot Turtlebot3\n",
    "- You will launch the robot simulation here\n",
    "- The real robot is running in Barcelona, Spain. You will connect remotely to it from this rosject"
   ]
  },
  {
   "cell_type": "markdown",
   "metadata": {},
   "source": [
    "![sim_and_real](images/sim_and_real_lab.png)"
   ]
  },
  {
   "cell_type": "markdown",
   "metadata": {},
   "source": [
    "<div class=\"bg-primary text-center\">\n",
    "    - End of Summary -\n",
    "</div>"
   ]
  },
  {
   "cell_type": "markdown",
   "metadata": {},
   "source": [
    "<div>\n",
    "    <h1 class=\"text-center\">\n",
    "        <span class=\"text-primary\">Section 0</span>\n",
    "        &nbsp;\n",
    "        <span class=\"\">How to proceed</span>\n",
    "    </h1>\n",
    "</div>"
   ]
  },
  {
   "cell_type": "markdown",
   "metadata": {},
   "source": [
    "<div>\n",
    "    <h1 class=\"text-center\">\n",
    "        <span class=\"text-primary\"></span>\n",
    "        &nbsp;\n",
    "        <span class=\"\">The rosject environment</span>\n",
    "    </h1>\n",
    "</div>"
   ]
  },
  {
   "cell_type": "markdown",
   "metadata": {},
   "source": [
    "If this is the first time you've used a rosject, then it might seem a little confusing at first. Don't worry, you'll get the hang of it. \n",
    "\n",
    "Rosjects are like a real development environment for ROS robots:\n",
    "\n",
    "* You will need to start yourself the robot simulation\n",
    "* You will need to decide when to open a Linux terminal\n",
    "* You will need to decide when to connect to the real robot\n",
    "* You will need to decide when to open and work with the IDE\n",
    "\n",
    "This is how the real ROS developers work every day."
   ]
  },
  {
   "cell_type": "markdown",
   "metadata": {},
   "source": [
    "### How to launch a terminal.\n",
    "\n",
    "To open a terminal, use the following icon of the bottom bar."
   ]
  },
  {
   "cell_type": "markdown",
   "metadata": {},
   "source": [
    "<img src=\"realrobotlab_notebooks/term.png\" align=\"left\" width=\"50\"/>"
   ]
  },
  {
   "cell_type": "markdown",
   "metadata": {},
   "source": [
    "Terminals are where you will do most of the work: looking for topics, running commands and checking nodes are just a few things. It is the main interface with the linux system of the robot."
   ]
  },
  {
   "cell_type": "markdown",
   "metadata": {},
   "source": [
    "### How to launch the IDE\n",
    "\n",
    "To open the IDE, use the following icon of the bottom bar."
   ]
  },
  {
   "cell_type": "markdown",
   "metadata": {},
   "source": [
    "<img src=\"realrobotlab_notebooks/IDE_icon.png\" align=\"left\" width=\"50\"/>"
   ]
  },
  {
   "cell_type": "markdown",
   "metadata": {},
   "source": [
    "That is the code editor. Very similar to Visual Studio Code. You will write your programs here, and you can also see the folder organization of the rosject. It is worth taking a minute here to identify the most important workspaces where you will be working and the ones you don't need to pay attention:\n",
    "* `ros2_ws`: The main workspace. ALL of your work will be in there, inside the `src` directory\n",
    "* `simulation_ws`: The workspace where all of the code relating to the simulation is. You do not need to work in there\n",
    "* `notebook_ws`: The workspace where the notebook and associated images are stored. You do not need to work in there"
   ]
  },
  {
   "cell_type": "markdown",
   "metadata": {},
   "source": [
    "### How to open the instructions notebook\n",
    "\n",
    "The instructions notebook is what you are reading right now. Contains the instructions of what you need to do to complete the project.\n",
    "\n",
    "To open the notebook, use the following icon of the bottom bar."
   ]
  },
  {
   "cell_type": "markdown",
   "metadata": {},
   "source": [
    "<img src=\"realrobotlab_notebooks/notebook_icon.png\" align=\"left\" width=\"50\"/>"
   ]
  },
  {
   "cell_type": "markdown",
   "metadata": {},
   "source": [
    "### How to launch a simulation"
   ]
  },
  {
   "cell_type": "markdown",
   "metadata": {},
   "source": [
    "As in every professional robot programming system, you will need to decide when to launch the simulation. \n",
    "\n",
    "**The simulation will not be there automatically for you** as it happens in the course."
   ]
  },
  {
   "cell_type": "markdown",
   "metadata": {},
   "source": [
    "To launch a simulation:\n",
    "\n",
    "1. You need to have the simulation code inside the `simulation_ws` (already done in this rosject)\n",
    "2. You need to know beforehand the Linux command necessary to launch that simulation (you will get it below)\n",
    "3. You will need to open a terminal\n",
    "4. Then type on the terminal the Linux command\n",
    "5. Once the simulation has fully started, the simulation window will automatically appear\n",
    "6. In case you close that window and want to re-open it again, use the following icon of the bottom bar:"
   ]
  },
  {
   "cell_type": "markdown",
   "metadata": {},
   "source": [
    "<img src=\"gazebo_superapp.png\" align=\"left\" width=\"50\"/>"
   ]
  },
  {
   "cell_type": "markdown",
   "metadata": {},
   "source": [
    "### How to open the graphical tools"
   ]
  },
  {
   "cell_type": "markdown",
   "metadata": {},
   "source": [
    "You already know about the graphical tools:"
   ]
  },
  {
   "cell_type": "markdown",
   "metadata": {},
   "source": [
    "<img src=\"images/graphical_tools_icon.png\" align=\"left\" width=\"50\"/>"
   ]
  },
  {
   "cell_type": "markdown",
   "metadata": {},
   "source": [
    "Opens `rviz` **if rviz has been launched from a terminal**. You will also see any other GUI applications in here, like `rqt`."
   ]
  },
  {
   "cell_type": "markdown",
   "metadata": {},
   "source": [
    "### How to connect to the real robot"
   ]
  },
  {
   "cell_type": "markdown",
   "metadata": {},
   "source": [
    "When you are ready to connect to the real robot and practice with it, you will need to do a booking of the robot and then use the following icon to connect to the real robot:"
   ]
  },
  {
   "cell_type": "markdown",
   "metadata": {},
   "source": [
    "<img src=\"realrobotlab_notebooks/robot_booking_icon.png\" align=\"left\" width=\"50\"/>"
   ]
  },
  {
   "cell_type": "markdown",
   "metadata": {},
   "source": [
    "Check the Appendix below to learn **how to book a session with the real robot**."
   ]
  },
  {
   "cell_type": "markdown",
   "metadata": {},
   "source": [
    "### How to check the course notebooks"
   ]
  },
  {
   "cell_type": "markdown",
   "metadata": {},
   "source": [
    "In case you need to check something from the courses that you forgot, **YOU DON'T NEED TO SWITCH TO THE COURSE!!**. You can open any course content from within the rosject using the following icon."
   ]
  },
  {
   "cell_type": "markdown",
   "metadata": {},
   "source": [
    "<img src=\"realrobotlab_notebooks/course_notebooks_icon.png\" align=\"left\" width=\"50\"/>"
   ]
  },
  {
   "cell_type": "markdown",
   "metadata": {},
   "source": [
    "Opens any notebook from all of our courses. Very useful if you want to quickly check something from the course without having to open it."
   ]
  },
  {
   "cell_type": "markdown",
   "metadata": {},
   "source": [
    "![courses_notebooks](images/courses_notebooks.png)"
   ]
  },
  {
   "cell_type": "markdown",
   "metadata": {},
   "source": [
    "<div>\n",
    "    <h1 class=\"text-center\">\n",
    "        <span class=\"text-primary\"></span>\n",
    "        &nbsp;\n",
    "        <span class=\"\">The project</span>\n",
    "    </h1>\n",
    "</div>"
   ]
  },
  {
   "cell_type": "markdown",
   "metadata": {},
   "source": [
    "This rosject is in three parts. Complete each section as directed in the **ROS2 Basics Python in 5 Days** course. "
   ]
  },
  {
   "cell_type": "markdown",
   "metadata": {},
   "source": [
    "* **Section 1**: Practice for topic Publishers and Subscribers\n",
    "* **Section 2**: Practice for Services\n",
    "* **Section 3**: Practice for Actions"
   ]
  },
  {
   "cell_type": "markdown",
   "metadata": {},
   "source": [
    "Before anything else, you will need to **launch the simulation** of the project. You will use the simulation to practice with the simulated environment."
   ]
  },
  {
   "cell_type": "markdown",
   "metadata": {},
   "source": [
    "<h1 align=\"center\";> </h1>\n",
    "<div>\n",
    "    <h1 class=\"text-center\">\n",
    "        <span class=\"text-primary\">0.1</span>\n",
    "        &nbsp;\n",
    "        <span class=\"\">Launching a simulation</span>\n",
    "    </h1>\n",
    "</div>"
   ]
  },
  {
   "cell_type": "markdown",
   "metadata": {},
   "source": [
    "Before working on your code, you need a simulation (or an actual robot) to be running. During the **ROS2 Basics** course, you saw the simulation running in the top right corner. The simulation was automatically launched.\n",
    "\n",
    "In real development environments, you decide when to launch the simulation in order to start working. \n",
    "\n",
    "Now, let's launch the simulation we will need for this project:"
   ]
  },
  {
   "cell_type": "markdown",
   "metadata": {},
   "source": [
    "1. Open a terminal by pressing on the *terminal icon* at the bottom left corner of your screen.\n",
    "\n",
    "2. On the opened terminal, type the following ROS command that launches the simulation"
   ]
  },
  {
   "cell_type": "markdown",
   "metadata": {},
   "source": [
    "<span class=\"badge badge-pill badge-primary\">\n",
    "    <i class=\"fa fa-play\"></i>\n",
    "    &nbsp;\n",
    "    Execute in a Terminal\n",
    "</span>"
   ]
  },
  {
   "cell_type": "code",
   "execution_count": null,
   "metadata": {},
   "outputs": [],
   "source": [
    "source ~/simulation_ws/install/setup.bash\n",
    "ros2 launch turtlebot3_gazebo main_turtlebot3_lab.launch.xml"
   ]
  },
  {
   "cell_type": "markdown",
   "metadata": {},
   "source": [
    "**Wait approximately 30 seconds** for the simulation to start. The simulation should automatically appear in a Gazebo window.\n",
    "\n",
    "If it doesn't automatically appear, open yourself the Gazebo window, using the Gazebo icon:"
   ]
  },
  {
   "cell_type": "markdown",
   "metadata": {},
   "source": [
    "<img src=\"gazebo_superapp.png\" align=\"left\" width=\"50\"/>"
   ]
  },
  {
   "cell_type": "markdown",
   "metadata": {},
   "source": [
    "<img src=\"new_sim.png\"/>"
   ]
  },
  {
   "cell_type": "markdown",
   "metadata": {},
   "source": [
    "**IMPORTANT:** the terminal that has the simulation running is occupied by it, so will not be able to use it unless you kill the simulation. So you will need to open other terminals for other purposes while keeping the simulation running"
   ]
  },
  {
   "cell_type": "markdown",
   "metadata": {},
   "source": [
    "<div>\n",
    "    <h1 class=\"text-center\">\n",
    "        <span class=\"text-primary\">Section 1</span>\n",
    "        &nbsp;\n",
    "        <span class=\"\">Topics</span>\n",
    "    </h1>\n",
    "</div>"
   ]
  },
  {
   "cell_type": "markdown",
   "metadata": {},
   "source": [
    "In this part of the project, you will practice using topics to control a robot. Your goal is to create a ROS program that makes the robot have a wall-following behavior."
   ]
  },
  {
   "cell_type": "markdown",
   "metadata": {},
   "source": [
    "<h1 align=\"center\";> </h1>\n",
    "<div>\n",
    "    <h1 class=\"text-center\">\n",
    "        <span class=\"text-primary\">1.1</span>\n",
    "        &nbsp;\n",
    "        <span class=\"\">Wall following behavior</span>\n",
    "    </h1>\n",
    "</div>"
   ]
  },
  {
   "cell_type": "markdown",
   "metadata": {},
   "source": [
    "**Remember that you can check the ROS2 Basics course clicking on the notebooks icon in the bottom menu bar.**"
   ]
  },
  {
   "cell_type": "markdown",
   "metadata": {},
   "source": [
    "The wall following behavior is a behavior that makes the robot **follow along the wall on its right hand side**. This means that the robot must be moving forward at a 30cm distance from the wall, having the wall on its right hand side, the entire time.\n",
    "\n",
    "To achieve this behavior in the robot, you need to do:\n",
    "\n",
    "1. **Create a ROS2 package named `wall_follower`**\n",
    "\n",
    "    * This package is the one that will contain the full project\n",
    "    * Inside the package include a ROS Python file named `wall_following.py`\n",
    "\n",
    "\n",
    "2. **Subscribe to the laser topic of the robot**\n",
    "\n",
    "    * Inside the `wall_following.py`, you need to subscribe to the laser topic and capture the rays \n",
    "    * In the callback of the subscriber, select the ray on the right (the one that makes a 90º angle to the right with the front of the robot) and use it to know the robot's distance to the wall\n",
    "    \n",
    "    **NOTE:** The topics for different simulations most likely will not be named the same. So make sure that you are using the correct name. For example, you used `/kobuki/laser/scan` during the course. The laser topic in this simulation is `/scan`\n",
    "    \n",
    "    \n",
    "3. **Publish to the velocity topic of the robot**\n",
    "    \n",
    "    * Also inside the `wall_following.py`, create a publisher to the `/cmd_vel` topic that controls the wheels\n",
    "    * At every step of the control loop, you need to publish the proper velocity command on that topic, based on the value of the distances detected by the laser:\n",
    "        * If the distance to the wall is **bigger than 0.3m**, you need to make the robot approach the wall a little, by adding some rotational speed to the robot\n",
    "        * If the distance to the wall is **smaller than 0.2m**, you need to move the robot away from the wall, by adding rotational speed in the opposite direction\n",
    "        * If the distance to the wall is **between 0.2m and 0.3m**, just keep the robot moving forward\n",
    "    \n",
    "    **IMPORTANT**\n",
    "\n",
    "    When the robot is moving along a wall, it can reach the next wall just infront of it. At that point in time, you should take into account how to progressively transition the robot from following the current wall to the next one.\n",
    "\n",
    "    To detect the wall in the front, we recommend that you use the laser ray just in the front of the robot. If the distance measured by that ray is shorter than 0.5m, then make the robot turn fast to the left (moving forward at the same time).\n",
    "\n",
    "    The result of this whole behavior must be that the robot moves along the whole environment (see video below).\n",
    "    \n",
    "\n",
    "4. **Create a launch file named `start_wall_following.launch.py`**"
   ]
  },
  {
   "cell_type": "markdown",
   "metadata": {},
   "source": [
    "<h1 align=\"center\";> </h1>\n",
    "<div>\n",
    "    <h1 class=\"text-center\">\n",
    "        <span class=\"text-primary\">1.2</span>\n",
    "        &nbsp;\n",
    "        <span class=\"\">Test your program in the simulation</span>\n",
    "    </h1>\n",
    "</div>"
   ]
  },
  {
   "cell_type": "markdown",
   "metadata": {},
   "source": [
    "Create the wall-following program and test it on the simulation. \n",
    "\n",
    "**If the program doesn't work on the simulation, it is 100% not going to work on the real robot.**\n",
    "\n",
    "Real-life robot development works this way: first, test your program in a simulation. When it works there, try it on a real robot. Never the other way around."
   ]
  },
  {
   "cell_type": "markdown",
   "metadata": {},
   "source": [
    "<img src=\"wall_follow_long.gif\"/>"
   ]
  },
  {
   "cell_type": "markdown",
   "metadata": {},
   "source": [
    "Follow the steps below to test your program in the simulation:\n",
    "\n",
    "1. Make sure the simulation is launched, as explained above\n",
    "   \n",
    "2. In another terminal, launch the keyboard teleop with the following command:"
   ]
  },
  {
   "cell_type": "markdown",
   "metadata": {},
   "source": [
    "<span class=\"badge badge-pill badge-primary\">\n",
    "    <i class=\"fa fa-play\"></i>\n",
    "    &nbsp;\n",
    "    Execute in a Shell\n",
    "</span>"
   ]
  },
  {
   "cell_type": "code",
   "execution_count": null,
   "metadata": {},
   "outputs": [],
   "source": [
    "ros2 run teleop_twist_keyboard teleop_twist_keyboard"
   ]
  },
  {
   "cell_type": "markdown",
   "metadata": {},
   "source": [
    "3. Now use the keys to move the robot to a convenient position to test your ROS program. This means, close to a wall, and with the wall on the robot right hand side\n",
    "\n",
    "**IMPORTANT-1:** Remember that in order to be able to move the robot with the keys, **the terminal where you launched the teleop has to have the focus**.\n",
    "\n",
    "**IMPORTANT-2**: close this *teleop* program once you have the proper position. Otherwise, it will interfere with your program.\n",
    "\n",
    "4. Now launch your ROS program and see the results. If the robot doesn't behave correctly, debug your program and try to figure out the reason."
   ]
  },
  {
   "cell_type": "markdown",
   "metadata": {},
   "source": [
    "<h1 align=\"center\";> </h1>\n",
    "<div>\n",
    "    <h1 class=\"text-center\">\n",
    "        <span class=\"text-primary\">1.3</span>\n",
    "        &nbsp;\n",
    "        <span class=\"\">If program works in simulation, then go to the real robot</span>\n",
    "    </h1>\n",
    "</div>"
   ]
  },
  {
   "cell_type": "markdown",
   "metadata": {},
   "source": [
    "Once the robot is moving along the walls of the simulated environment, it is time for you to test it on the real robot.\n",
    "\n",
    "The steps are:\n",
    "1. Book a date and time in the *Real Robot Lab* to test your program (see Appendix below that teaches how to do that).\n",
    "2. On the day and time selected, open this rosject\n",
    "3. Connect to the real robot lab from within this rosject (see Appendix below)\n",
    "4. Use the web-joystick that appears on the cameras window and move the real robot to the proper position to start before you launch your program\n",
    "5. You don't need to launch the simulation, because you are using the real thing\n",
    "5. Launch your program and see if it works properly. Chances are it will not because simulation is not an exact copy of the real environment. Now is your time to debug\n",
    "6. Test on the real robot and debug your errors until you have it working as intended"
   ]
  },
  {
   "cell_type": "markdown",
   "metadata": {},
   "source": [
    "<img src=\"realrobotlab_notebooks/realrobot_follow_wall.gif\"/>"
   ]
  },
  {
   "cell_type": "markdown",
   "metadata": {},
   "source": [
    "<div>\n",
    "    <h1 class=\"text-center\">\n",
    "        <span class=\"text-primary\">Section 2</span>\n",
    "        &nbsp;\n",
    "        <span class=\"\">Services</span>\n",
    "    </h1>\n",
    "</div>"
   ]
  },
  {
   "cell_type": "markdown",
   "metadata": {},
   "source": [
    "In the previous section, you used the keyboard to put the robot at a proper position so it can do the follow wall behavior.\n",
    "\n",
    "In this section you will create a program that does that alignment automatically."
   ]
  },
  {
   "cell_type": "markdown",
   "metadata": {},
   "source": [
    "The goal in this section is to create a new program that when called, \n",
    "* Makes robot search for the nearest wall\n",
    "* Once found, the robot will approach to the proper distance (0.3 m) \n",
    "* And then aligns itself with the wall on its right hand side, waiting in that position, ready to do the *wall following behavior*\n",
    "\n",
    "Check this video, to understand the behavior that is required:"
   ]
  },
  {
   "cell_type": "markdown",
   "metadata": {},
   "source": [
    "<img src=\"realrobotlab_notebooks/prepare_for_wall_sim.gif\"/>"
   ]
  },
  {
   "cell_type": "markdown",
   "metadata": {},
   "source": [
    "### Robot behavior required"
   ]
  },
  {
   "cell_type": "markdown",
   "metadata": {},
   "source": [
    "The robot of the video above does the following:\n",
    "1. Because of the 360º laser, the robot can detect the closest wall (shortest laser ray)\n",
    "2. Once identified the closest wall, the robot rotates to face that wall\n",
    "3. Once the robot is facing that wall, it moves closer to it, until the robot is at 0.3 m of it\n",
    "4. Then, the robot rotates again so it ends with the wall to its right hand side\n",
    "\n",
    "**We will call that behavior, the *find wall behavior***."
   ]
  },
  {
   "cell_type": "markdown",
   "metadata": {},
   "source": [
    "The *find wall behavior* must be **provided by a service server**. What does it mean?\n",
    "\n",
    "* You have to create a new node with a service server called `find_wall`\n",
    "* When somebody calls that server, the server *callback function* must execute the code of the *find wall behavior*, and make the robot find the closest wall and align with it"
   ]
  },
  {
   "cell_type": "markdown",
   "metadata": {},
   "source": [
    "**This server must be called before starting the *wall following behavior***."
   ]
  },
  {
   "cell_type": "markdown",
   "metadata": {},
   "source": [
    "To accomplish all that, you will have to do three things:\n",
    "\n",
    "1. Create a service server node that, when called, will make the robot do the *find wall behavior*\n",
    "2. Modify the program from Section 1 so that it includes now a service client that calls the service server **before** starting the *wall following behavior*\n",
    "3. Create a new launch file to launch both nodes (*wall following node* and the node with the `find_wall` service server)\n",
    "\n",
    "**LET'S GOT FOR IT!**"
   ]
  },
  {
   "cell_type": "markdown",
   "metadata": {},
   "source": [
    "<h1 align=\"center\";> </h1>\n",
    "<div>\n",
    "    <h1 class=\"text-center\">\n",
    "        <span class=\"text-primary\">2.1</span>\n",
    "        &nbsp;\n",
    "        <span class=\"\">Create Service Server</span>\n",
    "    </h1>\n",
    "</div>"
   ]
  },
  {
   "cell_type": "markdown",
   "metadata": {},
   "source": [
    "* Inside the `wall_follower` package create a new ROS file named `wall_finder.py` \n",
    "* Inside `wall_finder.py` create a service server named `find_wall`\n",
    "    * The callback of the server must contain the code that performs the *find wall behavior*\n",
    "        \n",
    "        **Some tips for that**\n",
    "        1. Identify which laser ray is the shortest one. Assume that this is the one pointing to a wall\n",
    "        2. Rotate the robot until the front of it is facing the wall. This can be done by publishing an angular velocity until front ray is the smallest one\n",
    "        3. Move the robot forward until the front ray is smaller than 30cm\n",
    "        4. Now rotate the robot again until ray number 270 of the laser ranges is pointing to the wall\n",
    "        5. At this point, consider that the robot is ready to start following the wall\n",
    "        6. Return the service message with `True`\n",
    "    \n",
    "\n",
    " * The server must use a new `FindWall` interface that you must also create, and that has the following structure:"
   ]
  },
  {
   "cell_type": "code",
   "execution_count": null,
   "metadata": {},
   "outputs": [],
   "source": [
    "FindWall.srv\n",
    "\n",
    "---\n",
    "bool wallfound"
   ]
  },
  {
   "cell_type": "markdown",
   "metadata": {},
   "source": [
    "Check sections 4.6 and 4.7 to remember how to do this part."
   ]
  },
  {
   "cell_type": "markdown",
   "metadata": {},
   "source": [
    "* Create a launch file named `start_wall_finder.launch.py` that launches the `wall_finder.py`"
   ]
  },
  {
   "cell_type": "markdown",
   "metadata": {},
   "source": [
    "<h1 align=\"center\";> </h1>\n",
    "<div>\n",
    "    <h1 class=\"text-center\">\n",
    "        &nbsp;\n",
    "        <span class=\"\">Test Service Server</span>\n",
    "    </h1>\n",
    "</div>"
   ]
  },
  {
   "cell_type": "markdown",
   "metadata": {},
   "source": [
    "How can you test and debug the service server independently of the code of Part 1? By doing the following steps:"
   ]
  },
  {
   "cell_type": "markdown",
   "metadata": {},
   "source": [
    "1. Launch the service server node using `start_wall_finder.launch.py`\n",
    "2. Put the simulated robot in a proper location for your test. You can do that using the `keyboard_teleop` explained in the previous section\n",
    "2. Call the service from a terminal by issuing the command:"
   ]
  },
  {
   "cell_type": "markdown",
   "metadata": {},
   "source": [
    "<span class=\"badge badge-pill badge-primary\">\n",
    "    <i class=\"fa fa-play\"></i>\n",
    "    &nbsp;\n",
    "    Execute in Terminal #2\n",
    "</span>"
   ]
  },
  {
   "cell_type": "code",
   "execution_count": null,
   "metadata": {},
   "outputs": [],
   "source": [
    "ros2 service call /find_wall std_srvs/Empty '{}'"
   ]
  },
  {
   "cell_type": "markdown",
   "metadata": {},
   "source": [
    "This should start the robot's movement looking for the wall. If it doesn't, it means your program doesn't work properly. You need to debug!"
   ]
  },
  {
   "cell_type": "markdown",
   "metadata": {},
   "source": [
    "<h1 align=\"center\";> </h1>\n",
    "<div>\n",
    "    <h1 class=\"text-center\">\n",
    "        <span class=\"text-primary\">2.2</span>\n",
    "        &nbsp;\n",
    "        <span class=\"\">Add server call to Section 1 program</span>\n",
    "    </h1>\n",
    "</div>"
   ]
  },
  {
   "cell_type": "markdown",
   "metadata": {},
   "source": [
    "Once the service is working, you need to call it from the `wall_following.py` program that you created in section 1. \n",
    "\n",
    "The idea is that before the *wall following behavior* starts following the wall, the robot has to be already aligned to the wall. Hence, the `wall_following.py` must call the `/find_wall` service before starting doing the *wall following behavior*."
   ]
  },
  {
   "cell_type": "markdown",
   "metadata": {},
   "source": [
    "So you need to do the following:"
   ]
  },
  {
   "cell_type": "markdown",
   "metadata": {},
   "source": [
    "1. Add to the `wall_following.py` node a synchronous service client that connects to the `/find_wall` service\n",
    "2. Use that client to call the service before the control loop of that node, so the robot gets prepared autonomously before following the wall"
   ]
  },
  {
   "cell_type": "markdown",
   "metadata": {},
   "source": [
    "<h1 align=\"center\";> </h1>\n",
    "<div>\n",
    "    <h1 class=\"text-center\">\n",
    "        <span class=\"text-primary\">2.3</span>\n",
    "        &nbsp;\n",
    "        <span class=\"\">Create new launch file</span>\n",
    "    </h1>\n",
    "</div>"
   ]
  },
  {
   "cell_type": "markdown",
   "metadata": {},
   "source": [
    "Now you need to create a launch file that launched both the `wall_following.py` and the `wall_finder.py`, because both of them have to be running in order to work together."
   ]
  },
  {
   "cell_type": "markdown",
   "metadata": {},
   "source": [
    "1. Create a new launch file named `main.launch.py` that launches both nodes: first the service server node and then the wall following node\n",
    "\n",
    "2. Put the robot in the simulation at a proper location for testing\n",
    "\n",
    "3. Then call the `main.launch.py` to start the full program\n",
    "\n",
    "This should start the robot movement (first the robot looks for the wall, then it starts to follow it).\n",
    "\n",
    "**IMPORTANT**: Test everything on the simulation. When it works in the simulation, book a date in the *Real Robot Lab* and make it work there, too. Same as in Section 1."
   ]
  },
  {
   "cell_type": "markdown",
   "metadata": {},
   "source": [
    "<div>\n",
    "    <h1 class=\"text-center\">\n",
    "        <span class=\"text-primary\">Section 3</span>\n",
    "        &nbsp;\n",
    "        <span class=\"\">Actions</span>\n",
    "    </h1>\n",
    "</div>"
   ]
  },
  {
   "cell_type": "markdown",
   "metadata": {},
   "source": [
    "### Create an action server that records odometry"
   ]
  },
  {
   "cell_type": "markdown",
   "metadata": {},
   "source": [
    "The goal of this section is to **create an action server that records the robot's odometry while the robot is moving along the wall**, so we can later use it to see the path followed by the robot.\n",
    "\n",
    "To achieve that, you will need to create another node that contains an action server in charge of doing the odometry recording when the action server is activated.\n",
    "\n",
    "The steps required to achieve that are:\n",
    "\n",
    "1. Create an action server that, when called, starts recording odometry\n",
    "2. Add a call to the action server from the wall following node\n",
    "3. Include the launch of the action server in `main.launch.py`"
   ]
  },
  {
   "cell_type": "markdown",
   "metadata": {},
   "source": [
    "<h1 align=\"center\";> </h1>\n",
    "<div>\n",
    "    <h1 class=\"text-center\">\n",
    "        <span class=\"text-primary\">3.1</span>\n",
    "        &nbsp;\n",
    "        <span class=\"\">Create action server</span>\n",
    "    </h1>\n",
    "</div>"
   ]
  },
  {
   "cell_type": "markdown",
   "metadata": {},
   "source": [
    "You need to do the following things:\n",
    "* The server must start recording the (x, y, theta) odometry of the robot as a Point32, one measure every second\n",
    "* As feedback, the action server must provide the total amount of meters that the robot has moved so far\n",
    "* When the robot has done a complete lap, it has to finish and return the list of odometries recorded"
   ]
  },
  {
   "cell_type": "markdown",
   "metadata": {},
   "source": [
    "To achieve that, make the following steps:"
   ]
  },
  {
   "cell_type": "markdown",
   "metadata": {},
   "source": [
    "1. Create a new ROS node in a new Python file named `odom_recorder.py`\n",
    "\n",
    "\n",
    "2. `odom_recorder.py` must have a subscription to the `/odom` topic. The callback of the subscriber must:\n",
    "    * Get the last odometry value received and extract the `x`, `y`\n",
    "    * Save those values on a `geometry_msgs/Point` variable of the class named `self.last_odom`\n",
    " \n",
    " \n",
    "3. Include in `odom_recorder.py` an action server named `/record_odom` \n",
    "\n",
    "\n",
    "4. Inside the callback of the action server, you need to do the following:\n",
    "    * Get the first odometry value received and store in a variable named `self.first_odom`\n",
    "    * Then every second, get the last odometry value of `self.last_odom` and store in an array of `Point` values named `self.odom_record`\n",
    "\n",
    "\n",
    "5. Inside the Feedback callback, you need to do the following:\n",
    "    * Have a variable with current total distance named `self.total_distance`\n",
    "    * Have another variable with last (x,y) position, named `self.last_x` and `self.last_y`\n",
    "    * At every step of the feedback, compute the distance between (`self.last_x`, `self.last_y`) and (`self.last_odom.x`, `self.last_odom.y`)\n",
    "    * Then add that distance to `self.total_distance`\n",
    "    * Return as feedback the current value of `self.total_distance`\n",
    "\n",
    "\n",
    "6. At every step, check that the distance between (`self.last_odom.x`, `self.last_odom.y`) and (`self.first_odom.x`, `self.first_odom.y`) is less than 5 cm\n",
    "\n",
    "\n",
    "7. If less than 5 cm, then it means that the robot has reached the initial position again, so the action server must end and return as result the total list of (x,y) points that were stored in the `self.odom_record` array\n",
    "\n",
    "\n",
    "8. This server uses an `OdomRecord.action` message that you must also create:"
   ]
  },
  {
   "cell_type": "markdown",
   "metadata": {},
   "source": [
    "<span class=\"badge badge-pill badge-primary\">\n",
    "    <i class=\"fa fa-file\"></i>\n",
    "    &nbsp;\n",
    "    OdomRecord.action\n",
    "</span>"
   ]
  },
  {
   "cell_type": "code",
   "execution_count": null,
   "metadata": {},
   "outputs": [],
   "source": [
    "\n",
    "---\n",
    "geometry_msgs/msg/Point[] list_of_odoms\n",
    "---\n",
    "float32 current_total"
   ]
  },
  {
   "cell_type": "markdown",
   "metadata": {},
   "source": [
    "<h1 align=\"center\";> </h1>\n",
    "<div>\n",
    "    <h1 class=\"text-center\">\n",
    "        <span class=\"text-primary\">3.2</span>\n",
    "        &nbsp;\n",
    "        <span class=\"\">Add action service client to Section 1 program</span>\n",
    "    </h1>\n",
    "</div>"
   ]
  },
  {
   "cell_type": "markdown",
   "metadata": {},
   "source": [
    "Once the action server is working, you need to call it from the `wall_following.py` program that you created in section 1. \n",
    "\n",
    "The idea is that before the *wall following behavior* starts following the wall,  the `wall_following.py` must call the `/record_odom` action to indicate that the recording of the odometry must start."
   ]
  },
  {
   "cell_type": "markdown",
   "metadata": {},
   "source": [
    "So you need to do the following:"
   ]
  },
  {
   "cell_type": "markdown",
   "metadata": {},
   "source": [
    "1. Add to the `wall_following.py` node an action client that connects to the `/record_odom` action server\n",
    "2. Use that client to call the action before the control loop of that node, so it starts recording the odometry before following the wall"
   ]
  },
  {
   "cell_type": "markdown",
   "metadata": {},
   "source": [
    "<h1 align=\"center\";> </h1>\n",
    "<div>\n",
    "    <h1 class=\"text-center\">\n",
    "        <span class=\"text-primary\">3.3</span>\n",
    "        &nbsp;\n",
    "        <span class=\"\">Add action server to main launch file</span>\n",
    "    </h1>\n",
    "</div>"
   ]
  },
  {
   "cell_type": "markdown",
   "metadata": {},
   "source": [
    "Now you need to modify the `main.launch.py` to include the launch of the `odom_recorder.py`."
   ]
  },
  {
   "cell_type": "markdown",
   "metadata": {},
   "source": [
    "1. Modify the `main.launch.py` launch file to launch the three nodes: first the service server node, then the action server node, and then the wall following node\n",
    "\n",
    "2. Put the robot in the simulation at a proper location for testing\n",
    "\n",
    "3. Then call the `main.launch.py` to start the full program\n",
    "\n",
    "* After the robot starts moving you should see the feedback appearing"
   ]
  },
  {
   "cell_type": "markdown",
   "metadata": {},
   "source": [
    "**IMPORTANT**: Test everything on the simulation. When it works in the simulation, book a date in the *Real Robot Lab* and make it work there, too. Same as in Section 1 and 2."
   ]
  },
  {
   "cell_type": "markdown",
   "metadata": {},
   "source": [
    "<div>\n",
    "    <h1 class=\"text-center\">\n",
    "        <span class=\"text-primary\">Section 4</span>\n",
    "        &nbsp;\n",
    "        <span class=\"\">Book a date to present your project on YouTube (optional)</span>\n",
    "    </h1>\n",
    "</div>"
   ]
  },
  {
   "cell_type": "markdown",
   "metadata": {},
   "source": [
    "An important part of your learning is to teach others what you have learned.\n",
    "\n",
    "To get the most out of your learning, you should present your project.\n",
    "\n",
    "If you're ready to take this brave step, contact The Construct at info@theconstructsim.com and request a presentation. We can agree on a day and time.\n",
    "\n",
    "In the presentation, **you will be asked to do the following**:\n",
    "\n",
    "1. Prepare your presentation. Explain your project in 20 minutes: How did you solve your project, and how does it work?\n",
    "2. On the agreed day, have a camera and mic ready\n",
    "3. The Construct will contact you on the day and prepare the whole broadcast. We handle the technical details. You only need to be ready to present\n",
    "\n",
    "The event will broadcast on YouTube, so anybody around the world can attend and watch your presentation."
   ]
  },
  {
   "cell_type": "markdown",
   "metadata": {},
   "source": [
    "\n",
    "It's important to remark that, although this step is optional, it is mandatory in order to get the certificate of the course. \n",
    "\n",
    "**Without successfully completing the presentation, you won't be able to earn the course certificate**.\n",
    "\n",
    "<img src=\"ros2-basics-python-cert.png\" width=\"600\" />"
   ]
  },
  {
   "cell_type": "markdown",
   "metadata": {},
   "source": [
    "<div>\n",
    "    <h1 class=\"text-center\">\n",
    "        <span class=\"text-primary\">Section 5</span>\n",
    "        &nbsp;\n",
    "        <span class=\"\">Share your project on LinkedIn or social networks</span>\n",
    "    </h1>\n",
    "</div>"
   ]
  },
  {
   "cell_type": "markdown",
   "metadata": {},
   "source": [
    "The rosject that you created is a demonstration of your skill and value as a ROS Developer.\n",
    "\n",
    "You can share your rosject on any website to show the ROS projects you have worked on. Examples of your capability can encourage potential employers to contact you."
   ]
  },
  {
   "cell_type": "markdown",
   "metadata": {},
   "source": [
    "To share your rosject, follow the steps below:\n",
    "* Go to your list of rosjects\n",
    "* Click on your rosjects Share button to get the share link\n",
    "\n",
    "<img src=\"ros2_basics_share_rosject.png\" width=\"400\"/>\n",
    "\n",
    "* Publish the link anywhere. Remember to use the *Permanent link*.\n",
    "\n",
    "<img src=\"sharelink.png\" width=\"400\"/>"
   ]
  },
  {
   "cell_type": "markdown",
   "metadata": {},
   "source": [
    "<div>\n",
    "    <h1 class=\"text-center\">\n",
    "        <span class=\"text-primary\">Appendix</span>\n",
    "        &nbsp;\n",
    "        <span class=\"\">How to connect to the real robot</span>\n",
    "    </h1>\n",
    "</div>"
   ]
  },
  {
   "cell_type": "markdown",
   "metadata": {},
   "source": [
    "Once you know the basics of the operation with a simulated version, it's time to practice what you've learned with a TurtleBot3 robot.\n",
    "\n",
    "To make a booking, follow these simple steps:"
   ]
  },
  {
   "cell_type": "markdown",
   "metadata": {},
   "source": [
    "<div>\n",
    "    <h2 class=\"text-center\">\n",
    "        <span class=\"text-primary\">Step 1</span>\n",
    "        &nbsp;\n",
    "        <span class=\"\">Book a Session</span>\n",
    "    </h2>\n",
    "</div>"
   ]
  },
  {
   "cell_type": "markdown",
   "metadata": {},
   "source": [
    "From The Construct's main dashboard, book a session by clicking on the icon seen below:"
   ]
  },
  {
   "cell_type": "markdown",
   "metadata": {},
   "source": [
    "<img src=\"realrobotlab_notebooks/reallab2.png\"/>"
   ]
  },
  {
   "cell_type": "markdown",
   "metadata": {},
   "source": [
    "A booking page will appear, where you can make a new booking.\n",
    "\n",
    "<img src=\"realrobotlab_notebooks/bookings.png\"/>"
   ]
  },
  {
   "cell_type": "markdown",
   "metadata": {},
   "source": [
    "You can either click on `Book a robot` on the bottom and then select the Turtlebot, or just click on `Book now` where the image of the turtlebot is and select the date and time for your reservation:"
   ]
  },
  {
   "cell_type": "markdown",
   "metadata": {},
   "source": [
    "<img src=\"realrobotlab_notebooks/reservet3.png\"/>"
   ]
  },
  {
   "cell_type": "markdown",
   "metadata": {},
   "source": [
    "Only the **available dates and times** are shown in green. They come in **25-minute blocks**.\n",
    "\n",
    "There is also a limitation on the number of bookings per week a user can make.\n",
    "\n",
    "Your number of available bookings depends on your license and subscription."
   ]
  },
  {
   "cell_type": "markdown",
   "metadata": {},
   "source": [
    "<img src=\"realrobotlab_notebooks/confirm.png\"/>"
   ]
  },
  {
   "cell_type": "markdown",
   "metadata": {},
   "source": [
    "* At any point in time you can check for bookings you have:\n",
    "\n",
    "<img src=\"realrobotlab_notebooks/bookasession.png\"/>"
   ]
  },
  {
   "cell_type": "markdown",
   "metadata": {},
   "source": [
    "<div>\n",
    "    <h1 class=\"text-center\">\n",
    "        <span class=\"text-primary\">Step 2</span>\n",
    "        &nbsp;\n",
    "        <span class=\"\">Open project rosject</span>\n",
    "    </h1>\n",
    "</div>"
   ]
  },
  {
   "cell_type": "markdown",
   "metadata": {},
   "source": [
    "Before the time of your booking, open your rosject. You will see the robot icon at the bottom bar has an orange dot. It means that your time to connect to the roobt will start soon. If you click on it you will see a countdown to your session start."
   ]
  },
  {
   "cell_type": "markdown",
   "metadata": {},
   "source": [
    "<img src=\"realrobotlab_notebooks/remaining.png\"/>"
   ]
  },
  {
   "cell_type": "markdown",
   "metadata": {},
   "source": [
    "The orange dot will turn red when your booked session has started."
   ]
  },
  {
   "cell_type": "markdown",
   "metadata": {},
   "source": [
    "<div>\n",
    "    <h1 class=\"text-center\">\n",
    "        <span class=\"text-primary\">Step 3</span>\n",
    "        &nbsp;\n",
    "        <span class=\"\">Turn ON robot connection</span>\n",
    "    </h1>\n",
    "</div>"
   ]
  },
  {
   "cell_type": "markdown",
   "metadata": {},
   "source": [
    "Once you are inside the rosject and your real robot session has started, click on the robot icon at the bottom. A popup with a toggle for **turning on the connection** will appear.\n",
    "\n",
    "**WARNING: Nothing will appear unless you have a booking. So if you didn't make a booking in the dashboard, now is the time to do it.**\n",
    "\n",
    "Now you just have to click on the toggle to connect the desktop environment to the remote lab. This will start the connection process, which lasts for a few seconds. \n",
    "\n",
    "Once the connection process is finished, the **red dot will change to green** if succesfully connected. Now **any terminal you open will show the topics and services of the real robot**.\n",
    "\n",
    "Move the joystick around to confirm you are connected to the robot:"
   ]
  },
  {
   "cell_type": "markdown",
   "metadata": {},
   "source": [
    "<img src=\"realrobotlab_notebooks/rrl.gif\"/>"
   ]
  },
  {
   "cell_type": "markdown",
   "metadata": {},
   "source": [
    "You can perform the following command, generating a list of topics similar to the list below. The first time you issue a ROS command, it could take an extra 30 seconds to appear:"
   ]
  },
  {
   "cell_type": "markdown",
   "metadata": {},
   "source": [
    "<table style=\"float:left;background: #407EAF\">\n",
    "<tr>\n",
    "<th>\n",
    "<p class=\"transparent\">Execute in WebShell #1</p>\n",
    "</th>\n",
    "</tr>\n",
    "</table>"
   ]
  },
  {
   "cell_type": "code",
   "execution_count": null,
   "metadata": {},
   "outputs": [],
   "source": [
    "ros2 topic list"
   ]
  },
  {
   "cell_type": "markdown",
   "metadata": {},
   "source": [
    "You are now connected to the robot! Try moving the robot around to see the lasers and the camera in RVIZ."
   ]
  },
  {
   "cell_type": "markdown",
   "metadata": {},
   "source": [
    "<span class=\"badge badge-pill badge-primary\">\n",
    "    <i class=\"fa fa-play\"></i>\n",
    "    &nbsp;\n",
    "    Execute in Terminal #1\n",
    "</span>"
   ]
  },
  {
   "cell_type": "code",
   "execution_count": null,
   "metadata": {},
   "outputs": [],
   "source": [
    "rviz2"
   ]
  },
  {
   "cell_type": "markdown",
   "metadata": {},
   "source": [
    "Now, add  scan element in the **base_footprint** frame. You should receive a result similar to the following:"
   ]
  },
  {
   "cell_type": "markdown",
   "metadata": {},
   "source": [
    "<img src=\"realrobotlab_notebooks/robox_demo_t3.gif\" width=1200/>"
   ]
  },
  {
   "cell_type": "markdown",
   "metadata": {},
   "source": [
    "## Ready for your programs!\n",
    "\n",
    "If you have reached this point, it means that you have a proper connection with the remote real robot lab. **Now you can launch the programs of your project and see the results on a real robot**."
   ]
  }
 ],
 "metadata": {
  "kernelspec": {
   "display_name": "Python 2",
   "language": "python",
   "name": "python2"
  },
  "language_info": {
   "codemirror_mode": {
    "name": "ipython",
    "version": 2
   },
   "file_extension": ".py",
   "mimetype": "text/x-python",
   "name": "python",
   "nbconvert_exporter": "python",
   "pygments_lexer": "ipython2",
   "version": "2.7.16"
  }
 },
 "nbformat": 4,
 "nbformat_minor": 1
}
