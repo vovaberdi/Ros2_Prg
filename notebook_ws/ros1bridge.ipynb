{
 "cells": [
  {
   "cell_type": "markdown",
   "metadata": {},
   "source": [
    "<div class=\"jumbotron m-0\">\n",
    "    <hr />\n",
    "    <h1 class=\"text-center\">\n",
    "        <span class=\"text-primary\">ROS2 Basics in 5 Days (Python)</span>\n",
    "    </h1>\n",
    "    <hr />\n",
    "</div>"
   ]
  },
  {
   "cell_type": "markdown",
   "metadata": {},
   "source": [
    "<div>\n",
    "    <h1 class=\"text-center\">\n",
    "        <span class=\"text-primary\">Extra</span>\n",
    "        &nbsp;\n",
    "        <span class=\"\">What is ROS1 Bridge?</span>\n",
    "    </h1>\n",
    "</div>"
   ]
  },
  {
   "cell_type": "markdown",
   "metadata": {},
   "source": [
    "The ROS1 Bridge package provides several tools for communication between ROS1 & ROS2 nodes. This is useful, especially nowadays, when both ROS versions coexist, and ROS2 is still in development."
   ]
  },
  {
   "cell_type": "markdown",
   "metadata": {},
   "source": [
    "Depending on the needs of your project, you might need to enable a specific type of communication. In this notebook, you will explore three ways to exchange messages between ROS1 and ROS2:\n",
    "\n",
    "* **Dynamic Bridge**\n",
    "\n",
    "* **Parameter Bridge**\n",
    "\n",
    "* **Action Bridge** - `This one will not be covered in the notebook since it's not going to be used`"
   ]
  },
  {
   "cell_type": "markdown",
   "metadata": {},
   "source": [
    "So, for this notebook, you will work with a ROS1 simulation. Let's start by launching the simulation:"
   ]
  },
  {
   "cell_type": "markdown",
   "metadata": {},
   "source": [
    "<div class=\"bg-danger text-center\">\n",
    "    - Notes -\n",
    "</div>"
   ]
  },
  {
   "cell_type": "markdown",
   "metadata": {},
   "source": [
    "If you already have the simulation running, you can skip the 1st step."
   ]
  },
  {
   "cell_type": "markdown",
   "metadata": {},
   "source": [
    "<div class=\"bg-danger text-center\">\n",
    "    - End of Notes -\n",
    "</div>"
   ]
  },
  {
   "cell_type": "markdown",
   "metadata": {},
   "source": [
    "<span class=\"badge badge-pill badge-primary\">\n",
    "    <i class=\"fa fa-play\"></i>\n",
    "    &nbsp;\n",
    "    Execute in a Shell\n",
    "</span>"
   ]
  },
  {
   "cell_type": "code",
   "execution_count": null,
   "metadata": {},
   "outputs": [],
   "source": [
    "source /opt/ros/noetic/setup.bash\n",
    "source ~/simulation_ws/devel/setup.bash\n",
    "roslaunch realrobotlab main.launch"
   ]
  },
  {
   "cell_type": "markdown",
   "metadata": {},
   "source": [
    "You should have the Gazebo simulation running:"
   ]
  },
  {
   "cell_type": "markdown",
   "metadata": {},
   "source": [
    "<img src=\"new_sim.png\"/>"
   ]
  },
  {
   "cell_type": "markdown",
   "metadata": {},
   "source": [
    "You can review the topics provided by the simulation with a `rostopic list` command:"
   ]
  },
  {
   "cell_type": "markdown",
   "metadata": {},
   "source": [
    "<span class=\"badge badge-pill badge-primary\">\n",
    "    <i class=\"fa fa-play\"></i>\n",
    "    &nbsp;\n",
    "    Execute in a Shell\n",
    "</span>"
   ]
  },
  {
   "cell_type": "code",
   "execution_count": null,
   "metadata": {
    "collapsed": true
   },
   "outputs": [],
   "source": [
    "source /opt/ros/noetic/setup.bash\n",
    "rostopic list"
   ]
  },
  {
   "cell_type": "markdown",
   "metadata": {},
   "source": [
    "<span class=\"badge badge-pill badge-primary\">\n",
    "    <i class=\"fa fa-file\"></i>\n",
    "    &nbsp;\n",
    "    Expected Output\n",
    "</span>"
   ]
  },
  {
   "cell_type": "markdown",
   "metadata": {},
   "source": [
    "<pre style=\"color: white; background: black; padding:10px; font: 1.3rem Inconsolata, monospace;\">\n",
    "/clock\n",
    "/cmd_vel\n",
    "/cv_camera/camera_info\n",
    "/cv_camera/image_raw\n",
    "/cv_camera/image_raw/compressed\n",
    "/cv_camera/image_raw/compressed/parameter_descriptions\n",
    "/cv_camera/image_raw/compressed/parameter_updates\n",
    "/cv_camera/image_raw/compressedDepth\n",
    "/cv_camera/image_raw/compressedDepth/parameter_descriptions\n",
    "/cv_camera/image_raw/compressedDepth/parameter_updates\n",
    "/cv_camera/image_raw/theora\n",
    "/cv_camera/image_raw/theora/parameter_descriptions\n",
    "/cv_camera/image_raw/theora/parameter_updates\n",
    "/cv_camera/parameter_descriptions\n",
    "/cv_camera/parameter_updates\n",
    "/gazebo/link_states\n",
    "/gazebo/model_states\n",
    "/gazebo/parameter_descriptions\n",
    "/gazebo/parameter_updates\n",
    "/gazebo/performance_metrics\n",
    "/gazebo/set_link_state\n",
    "/gazebo/set_model_state\n",
    "/imu\n",
    "/joint_states\n",
    "/odom\n",
    "/overlord/camera/camera_info\n",
    "/overlord/camera/image_raw\n",
    "/overlord/camera/image_raw/compressed\n",
    "/overlord/camera/image_raw/compressed/parameter_descriptions\n",
    "/overlord/camera/image_raw/compressed/parameter_updates\n",
    "/overlord/camera/image_raw/compressedDepth\n",
    "/overlord/camera/image_raw/compressedDepth/parameter_descriptions\n",
    "/overlord/camera/image_raw/compressedDepth/parameter_updates\n",
    "/overlord/camera/image_raw/theora\n",
    "/overlord/camera/image_raw/theora/parameter_descriptions\n",
    "/overlord/camera/image_raw/theora/parameter_updates\n",
    "/overlord/camera/parameter_descriptions\n",
    "/overlord/camera/parameter_updates\n",
    "/rosout\n",
    "/rosout_agg\n",
    "/scan\n",
    "/tf\n",
    "/tf_static\n",
    "</pre>"
   ]
  },
  {
   "cell_type": "markdown",
   "metadata": {},
   "source": [
    "<div>\n",
    "    <h2 class=\"text-center\">\n",
    "        <span class=\"text-primary\">E.1</span>\n",
    "        &nbsp;\n",
    "        <span class=\"\">Dynamic Bridge</span>\n",
    "    </h2>\n",
    "</div>"
   ]
  },
  {
   "cell_type": "markdown",
   "metadata": {},
   "source": [
    "The `dynamic_bridge` node is probably the most common way of enabling this communication.\n",
    "\n",
    "To use it, first source both ROS versions, first ROS1 and second, ROS2:"
   ]
  },
  {
   "cell_type": "markdown",
   "metadata": {},
   "source": [
    "<span class=\"badge badge-pill badge-primary\">\n",
    "    <i class=\"fa fa-play\"></i>\n",
    "    &nbsp;\n",
    "    Execute in a Shell\n",
    "</span>"
   ]
  },
  {
   "cell_type": "code",
   "execution_count": null,
   "metadata": {
    "collapsed": true
   },
   "outputs": [],
   "source": [
    "source /opt/ros/noetic/setup.bash\n",
    "source /opt/ros/foxy/setup.bash"
   ]
  },
  {
   "cell_type": "markdown",
   "metadata": {},
   "source": [
    "Now, start the `dynamic_bridge` node with the following command:"
   ]
  },
  {
   "cell_type": "markdown",
   "metadata": {},
   "source": [
    "<span class=\"badge badge-pill badge-primary\">\n",
    "    <i class=\"fa fa-play\"></i>\n",
    "    &nbsp;\n",
    "    Execute in a Shell\n",
    "</span>"
   ]
  },
  {
   "cell_type": "code",
   "execution_count": null,
   "metadata": {
    "collapsed": true
   },
   "outputs": [],
   "source": [
    "ros2 run ros1_bridge dynamic_bridge"
   ]
  },
  {
   "cell_type": "markdown",
   "metadata": {},
   "source": [
    "<span class=\"badge badge-pill badge-primary\">\n",
    "    <i class=\"fa fa-file\"></i>\n",
    "    &nbsp;\n",
    "    Expected Output\n",
    "</span>"
   ]
  },
  {
   "cell_type": "markdown",
   "metadata": {},
   "source": [
    "<pre style=\"color: white; background: black; padding:10px; font: 1.3rem Inconsolata, monospace;\">\n",
    "Created 2 to 1 bridge for service /cv_camera/set_camera_info\n",
    "Created 2 to 1 bridge for service /gazebo/clear_body_wrenches\n",
    "Created 2 to 1 bridge for service /gazebo/clear_joint_forces\n",
    "Created 2 to 1 bridge for service /gazebo/delete_light\n",
    "Created 2 to 1 bridge for service /gazebo/delete_model\n",
    "Created 2 to 1 bridge for service /gazebo/get_joint_properties\n",
    "Created 2 to 1 bridge for service /gazebo/get_light_properties\n",
    "Created 2 to 1 bridge for service /gazebo/get_link_properties\n",
    "Created 2 to 1 bridge for service /gazebo/get_link_state\n",
    "Created 2 to 1 bridge for service /gazebo/get_model_properties\n",
    "Created 2 to 1 bridge for service /gazebo/get_model_state\n",
    "Created 2 to 1 bridge for service /gazebo/get_physics_properties\n",
    "Created 2 to 1 bridge for service /gazebo/get_world_properties\n",
    "Created 2 to 1 bridge for service /gazebo/pause_physics\n",
    "Created 2 to 1 bridge for service /gazebo/reset_simulation\n",
    "Created 2 to 1 bridge for service /gazebo/reset_world\n",
    "Created 2 to 1 bridge for service /gazebo/set_joint_properties\n",
    "Created 2 to 1 bridge for service /gazebo/set_link_properties\n",
    "Created 2 to 1 bridge for service /gazebo/set_link_state\n",
    "Created 2 to 1 bridge for service /gazebo/set_model_configuration\n",
    "Created 2 to 1 bridge for service /gazebo/set_model_state\n",
    "Created 2 to 1 bridge for service /gazebo/set_physics_properties\n",
    "Created 2 to 1 bridge for service /gazebo/spawn_sdf_model\n",
    "Created 2 to 1 bridge for service /gazebo/spawn_urdf_model\n",
    "Created 2 to 1 bridge for service /gazebo/unpause_physics\n",
    "Created 2 to 1 bridge for service /imu_service\n",
    "Created 2 to 1 bridge for service /overlord/camera/set_camera_info\n",
    "created 2to1 bridge for topic '/rosout' with ROS 2 type 'rcl_interfaces/msg/Log' and ROS 1 type 'rosgraph_msgs/Log'\n",
    "</pre>"
   ]
  },
  {
   "cell_type": "markdown",
   "metadata": {},
   "source": [
    "Open a new shell and review the topics available in ROS2:"
   ]
  },
  {
   "cell_type": "markdown",
   "metadata": {},
   "source": [
    "<span class=\"badge badge-pill badge-primary\">\n",
    "    <i class=\"fa fa-play\"></i>\n",
    "    &nbsp;\n",
    "    Execute in a Shell\n",
    "</span>"
   ]
  },
  {
   "cell_type": "code",
   "execution_count": null,
   "metadata": {
    "collapsed": true
   },
   "outputs": [],
   "source": [
    "source /opt/ros/foxy/setup.bash\n",
    "ros2 topic list"
   ]
  },
  {
   "cell_type": "markdown",
   "metadata": {},
   "source": [
    "<span class=\"badge badge-pill badge-primary\">\n",
    "    <i class=\"fa fa-file\"></i>\n",
    "    &nbsp;\n",
    "    Expected Output\n",
    "</span>"
   ]
  },
  {
   "cell_type": "markdown",
   "metadata": {},
   "source": [
    "<pre style=\"color: white; background: black; padding:10px; font: 1.3rem Inconsolata, monospace;\">\n",
    "/parameter_events\n",
    "/rosout\n",
    "</pre>"
   ]
  },
  {
   "cell_type": "markdown",
   "metadata": {},
   "source": [
    "Some topics are missing, right? Also, if you look into one of the ROS1 topics provided by the simulation, for instance, the `/scan` topics, you will get the following error message:"
   ]
  },
  {
   "cell_type": "markdown",
   "metadata": {},
   "source": [
    "<span class=\"badge badge-pill badge-primary\">\n",
    "    <i class=\"fa fa-play\"></i>\n",
    "    &nbsp;\n",
    "    Execute in a Shell\n",
    "</span>"
   ]
  },
  {
   "cell_type": "code",
   "execution_count": null,
   "metadata": {
    "collapsed": true
   },
   "outputs": [],
   "source": [
    "ros2 topic echo /scan"
   ]
  },
  {
   "cell_type": "markdown",
   "metadata": {},
   "source": [
    "<span class=\"badge badge-pill badge-primary\">\n",
    "    <i class=\"fa fa-file\"></i>\n",
    "    &nbsp;\n",
    "    Expected Output\n",
    "</span>"
   ]
  },
  {
   "cell_type": "markdown",
   "metadata": {},
   "source": [
    "<pre style=\"color: white; background: black; padding:10px; font: 1.3rem Inconsolata, monospace;\">\n",
    "WARNING: topic [/scan] does not appear to be published yet\n",
    "Could not determine the type for the passed topic\n",
    "</pre>"
   ]
  },
  {
   "cell_type": "markdown",
   "metadata": {},
   "source": [
    "Do not worry since this is the expected result."
   ]
  },
  {
   "cell_type": "markdown",
   "metadata": {},
   "source": [
    "By default, and for efficiency reasons, topics will only be bridged when a matching publisher-subscriber pair is found on either side of the bridge."
   ]
  },
  {
   "cell_type": "markdown",
   "metadata": {},
   "source": [
    "A possible workaround you can use to trigger the bridge is to run a `ros2 topic echo` command, specifying the type of message used by the topic. For instance:"
   ]
  },
  {
   "cell_type": "markdown",
   "metadata": {},
   "source": [
    "<span class=\"badge badge-pill badge-primary\">\n",
    "    <i class=\"fa fa-play\"></i>\n",
    "    &nbsp;\n",
    "    Execute in a Shell\n",
    "</span>"
   ]
  },
  {
   "cell_type": "code",
   "execution_count": null,
   "metadata": {
    "collapsed": true
   },
   "outputs": [],
   "source": [
    "ros2 topic echo /scan sensor_msgs/msg/LaserScan"
   ]
  },
  {
   "cell_type": "markdown",
   "metadata": {},
   "source": [
    "<span class=\"badge badge-pill badge-primary\">\n",
    "    <i class=\"fa fa-file\"></i>\n",
    "    &nbsp;\n",
    "    Expected Output\n",
    "</span>"
   ]
  },
  {
   "cell_type": "markdown",
   "metadata": {},
   "source": [
    "<pre style=\"color: white; background: black; padding:10px; font: 1.3rem Inconsolata, monospace;\">\n",
    "header:\n",
    "  stamp:\n",
    "    sec: 151\n",
    "    nanosec: 716000000\n",
    "  frame_id: base_scan\n",
    "angle_min: -3.1415998935699463\n",
    "angle_max: 3.1415998935699463\n",
    "angle_increment: 0.008738803677260876\n",
    "time_increment: 0.0\n",
    "scan_time: 0.0\n",
    "range_min: 0.11999999731779099\n",
    "range_max: 3.5\n",
    "ranges:\n",
    "- 0.9818652272224426\n",
    "- 1.0080647468566895\n",
    "- 1.0044039487838745\n",
    "- 1.0134073495864868\n",
    "- 1.011889934539795\n",
    "- 0.9915646314620972\n",
    "- 0.9929306507110596\n",
    "- 1.0054320096969604\n",
    "- 1.0068612098693848\n",
    "- 1.0101245641708374\n",
    "- 1.0169930458068848\n",
    "- 0.9999923706054688\n",
    "- 1.0134830474853516\n",
    "- 1.0067899227142334\n",
    "- 1.0074186325073242\n",
    "- 1.0124869346618652\n",
    "- 1.0155141353607178\n",
    "- 1.0220564603805542\n",
    "- 1.0151300430297852\n",
    "- 1.0347167253494263\n",
    "- 1.034607172012329\n",
    "- 1.0124752521514893\n",
    "- 1.0264416933059692\n",
    "- 1.0159903764724731\n",
    "- 1.0276468992233276\n",
    "- 1.0368982553482056\n",
    "- 1.0527305603027344\n",
    "- 1.045666217803955\n",
    "- 1.043613314628601\n",
    "- 1.03262460231781\n",
    "- 1.0466091632843018\n",
    "- 1.0506508350372314\n",
    "- 1.0525716543197632\n",
    "- 1.0751049518585205\n",
    "- 1.0381593704223633\n",
    "- 1.0593008995056152\n",
    "- 1.063913106918335\n",
    "- 1.0710653066635132\n",
    "- 1.0688377618789673\n",
    "- 1.0625971555709839\n",
    "- 1.074928641319275\n",
    "- 1.0893430709838867\n",
    "- 1.0844581127166748\n",
    "- 1.099753975868225\n",
    "- 1.1041419506072998\n",
    "- 1.098231315612793\n",
    "- 1.095930814743042\n",
    "- 1.099208116531372\n",
    "- 1.1062090396881104\n",
    "- 1.1033062934875488\n",
    "- 1.135802149772644\n",
    "- 1.136298656463623\n",
    "- 1.1360406875610352\n",
    "- 1.1399742364883423\n",
    "- 1.1332405805587769\n",
    "- 1.168414831161499\n",
    "- 1.1398930549621582\n",
    "- 1.1644995212554932\n",
    "- 1.1710776090621948\n",
    "- 1.174648642539978\n",
    "- 1.1704362630844116\n",
    "- 1.1923693418502808\n",
    "- 1.1999297142028809\n",
    "- 1.2036807537078857\n",
    "- 1.1933636665344238\n",
    "- 1.2161024808883667\n",
    "- 1.2243330478668213\n",
    "- 1.26846182346344\n",
    "- 1.2264527082443237\n",
    "- 1.2435193061828613\n",
    "- 1.254310965538025\n",
    "- 1.2535096406936646\n",
    "- 1.2763183116912842\n",
    "- 1.29188072681427\n",
    "- 1.2888517379760742\n",
    "- 1.304583191871643\n",
    "- 1.3095557689666748\n",
    "- 1.3173611164093018\n",
    "- 1.3360241651535034\n",
    "- 1.3289061784744263\n",
    "- 1.351296305656433\n",
    "- 1.3810067176818848\n",
    "- 1.3579472303390503\n",
    "- 1.3865156173706055\n",
    "- 1.3866369724273682\n",
    "- 1.3958690166473389\n",
    "- 1.4302312135696411\n",
    "- 1.4227761030197144\n",
    "- 1.441074013710022\n",
    "- 1.4566079378128052\n",
    "- 1.4641592502593994\n",
    "- 0.4585310220718384\n",
    "- 0.47664329409599304\n",
    "- 0.4388256371021271\n",
    "- 0.42741864919662476\n",
    "- 0.43564218282699585\n",
    "- 0.41587650775909424\n",
    "- 0.4073927402496338\n",
    "- 0.38558441400527954\n",
    "- 0.3874107003211975\n",
    "- 0.37203434109687805\n",
    "- 0.40510430932044983\n",
    "- 0.3955446779727936\n",
    "- 0.38322028517723083\n",
    "- 0.41688820719718933\n",
    "- 0.4238519072532654\n",
    "- 0.4108026921749115\n",
    "- 0.43714335560798645\n",
    "- 0.41823872923851013\n",
    "- 0.4258473515510559\n",
    "- 0.4554007351398468\n",
    "- 0.43898043036460876\n",
    "- 0.4502139389514923\n",
    "- 0.4574390947818756\n",
    "- 0.4573359191417694\n",
    "- 0.5315533876419067\n",
    "- 0.5259725451469421\n",
    "- 0.5295955538749695\n",
    "- 0.5220158696174622\n",
    "- 0.48519793152809143\n",
    "- 0.5237055420875549\n",
    "- 0.5303784012794495\n",
    "- 0.5199661254882812\n",
    "- 0.4067648947238922\n",
    "- 0.38781413435935974\n",
    "- 0.37947648763656616\n",
    "- 0.3914421498775482\n",
    "- 0.3602210283279419\n",
    "- '...'\n",
    "intensities:\n",
    "- 0.0\n",
    "- 0.0\n",
    "- 0.0\n",
    "- 0.0\n",
    "- 0.0\n",
    "- 0.0\n",
    "- 0.0\n",
    "- 0.0\n",
    "- 0.0\n",
    "- 0.0\n",
    "- 0.0\n",
    "- 0.0\n",
    "- 0.0\n",
    "- 0.0\n",
    "- 0.0\n",
    "- 0.0\n",
    "- 0.0\n",
    "- '...'\n",
    "</pre>"
   ]
  },
  {
   "cell_type": "markdown",
   "metadata": {},
   "source": [
    "If you check again the output of the Shell where you have running the `dynamic_bridge`, you will find something like the following:"
   ]
  },
  {
   "cell_type": "markdown",
   "metadata": {},
   "source": [
    "<pre style=\"color: white; background: black; padding:10px; font: 1.3rem Inconsolata, monospace;\">\n",
    "created 1to2 bridge for topic '/scan' with ROS 1 type 'sensor_msgs/LaserScan' and ROS 2 type 'sensor_msgs/msg/LaserScan'\n",
    "[INFO] [1671788043.588351507] [ros_bridge]: Passing message from ROS 1 sensor_msgs/LaserScan to ROS 2 sensor_msgs/msg/LaserScan (showing msg only once per type)\n",
    "</pre>"
   ]
  },
  {
   "cell_type": "markdown",
   "metadata": {},
   "source": [
    "So, what happened here? As soon as you run the `ros2 topic echo` command for the **/scan** topic, the `dynamic_bridge` detects this connection between a Publisher (ROS1) and a Subscriber (your `ros2 topic echo` command in ROS2). Then, a bridge is created for this topic."
   ]
  },
  {
   "cell_type": "markdown",
   "metadata": {},
   "source": [
    "Another possibility is to run the `dynamic_bridge` with the `--bridge-all-1to2-topics` flag to automatically bridge all the topics from ROS1 to ROS2."
   ]
  },
  {
   "cell_type": "markdown",
   "metadata": {},
   "source": [
    "<div class=\"bg-danger text-center\">\n",
    "    - Notes -\n",
    "</div>"
   ]
  },
  {
   "cell_type": "markdown",
   "metadata": {},
   "source": [
    "Stop the previous **`dynamic_bridge`** node before running this new one."
   ]
  },
  {
   "cell_type": "markdown",
   "metadata": {},
   "source": [
    "<div class=\"bg-danger text-center\">\n",
    "    - End of Notes -\n",
    "</div>"
   ]
  },
  {
   "cell_type": "markdown",
   "metadata": {},
   "source": [
    "<span class=\"badge badge-pill badge-primary\">\n",
    "    <i class=\"fa fa-play\"></i>\n",
    "    &nbsp;\n",
    "    Execute in a Shell\n",
    "</span>"
   ]
  },
  {
   "cell_type": "code",
   "execution_count": null,
   "metadata": {
    "collapsed": true
   },
   "outputs": [],
   "source": [
    "ros2 run ros1_bridge dynamic_bridge --bridge-all-1to2-topics"
   ]
  },
  {
   "cell_type": "markdown",
   "metadata": {},
   "source": [
    "Now, if you rerun the `ros2 topic list`, you will get the following result:"
   ]
  },
  {
   "cell_type": "markdown",
   "metadata": {},
   "source": [
    "<span class=\"badge badge-pill badge-primary\">\n",
    "    <i class=\"fa fa-file\"></i>\n",
    "    &nbsp;\n",
    "    Expected Output\n",
    "</span>"
   ]
  },
  {
   "cell_type": "markdown",
   "metadata": {},
   "source": [
    "<pre style=\"color: white; background: black; padding:10px; font: 1.3rem Inconsolata, monospace;\">\n",
    "/clock\n",
    "/cv_camera/camera_info\n",
    "/cv_camera/image_raw\n",
    "/cv_camera/image_raw/compressed\n",
    "/cv_camera/image_raw/compressedDepth\n",
    "/gazebo/link_states\n",
    "/gazebo/model_states\n",
    "/imu\n",
    "/joint_states\n",
    "/odom\n",
    "/overlord/camera/camera_info\n",
    "/overlord/camera/image_raw\n",
    "/overlord/camera/image_raw/compressed\n",
    "/overlord/camera/image_raw/compressedDepth\n",
    "/parameter_events\n",
    "/rosout\n",
    "/rosout_agg\n",
    "/scan\n",
    "/tf\n",
    "/tf_static\n",
    "</pre>"
   ]
  },
  {
   "cell_type": "markdown",
   "metadata": {},
   "source": [
    "As a counterpart, the flag `--bridge-all-2to1-topics` also works right in the opposite way. It bridges all ROS2 topics to ROS1."
   ]
  },
  {
   "cell_type": "markdown",
   "metadata": {},
   "source": [
    "<div>\n",
    "    <h2 class=\"text-center\">\n",
    "        <span class=\"text-primary\">E.2</span>\n",
    "        &nbsp;\n",
    "        <span class=\"\">Parameter Bridge</span>\n",
    "    </h2>\n",
    "</div>"
   ]
  },
  {
   "cell_type": "markdown",
   "metadata": {},
   "source": [
    "In some cases, it might be interesting to ONLY bridge specific topics. This can be helpful to safe system resources. To achieve this, make use of the `parameter_bridge` node."
   ]
  },
  {
   "cell_type": "markdown",
   "metadata": {},
   "source": [
    "The `parameter_bridge` node allows a bridge to specific topics. The data of the topics that you want to bridge has to be loaded into the ROS Parameter Server. For this, use a configuration file.\n",
    "\n",
    "See an example!"
   ]
  },
  {
   "cell_type": "markdown",
   "metadata": {},
   "source": [
    "Create a new ROS1 package named **load_params_ex** inside the **catkin_ws** workspace:"
   ]
  },
  {
   "cell_type": "markdown",
   "metadata": {},
   "source": [
    "<span class=\"badge badge-pill badge-primary\">\n",
    "    <i class=\"fa fa-play\"></i>\n",
    "    &nbsp;\n",
    "    Execute in Shell\n",
    "</span>"
   ]
  },
  {
   "cell_type": "code",
   "execution_count": null,
   "metadata": {
    "collapsed": true
   },
   "outputs": [],
   "source": [
    "source /opt/ros/noetic/setup.bash\n",
    "cd ~/catkin_ws/src\n",
    "catkin_create_pkg load_params_ex"
   ]
  },
  {
   "cell_type": "markdown",
   "metadata": {},
   "source": [
    "Now, inside this package, create two folders named **launch** and **params**.\n",
    "\n",
    "Inside the params folder, create a file named **topics.yaml** with the following contents:"
   ]
  },
  {
   "cell_type": "markdown",
   "metadata": {},
   "source": [
    "<span class=\"badge badge-pill badge-primary\">\n",
    "    <i class=\"fa fa-file\"></i>\n",
    "    &nbsp;\n",
    "    topics.yaml\n",
    "</span>"
   ]
  },
  {
   "cell_type": "code",
   "execution_count": null,
   "metadata": {
    "collapsed": true
   },
   "outputs": [],
   "source": [
    "topics: [{topic: /scan, type: sensor_msgs/msg/LaserScan, queue_size: 100}, {topic: /cmd_vel, type: geometry_msgs/msg/Twist, queue_size: 100}, {topic: /tf, type: tf2_msgs/msg/TFMessage, queue_size: 100}, {topic: /tf_static, type: tf2_msgs/msg/TFMessage, queue_size: 500}]"
   ]
  },
  {
   "cell_type": "markdown",
   "metadata": {},
   "source": [
    "As you can, you are setting the topics you want to bridge to ROS2, which are:\n",
    "\n",
    "* `/scan`\n",
    "\n",
    "* `/cmd_vel`\n",
    "\n",
    "* `/tf`\n",
    "\n",
    "* `/tf_static`"
   ]
  },
  {
   "cell_type": "markdown",
   "metadata": {},
   "source": [
    "For each topic, specify the following data:\n",
    "\n",
    "* `topic`: The topic name\n",
    "\n",
    "\n",
    "* `type`: The type of message used by the topic\n",
    "\n",
    "\n",
    "* `queue_size`: The queue size for the topic"
   ]
  },
  {
   "cell_type": "markdown",
   "metadata": {},
   "source": [
    "Now, inside the launch folder, create a new file named **load_params.launch** and paste the following contents:"
   ]
  },
  {
   "cell_type": "markdown",
   "metadata": {},
   "source": [
    "<span class=\"badge badge-pill badge-primary\">\n",
    "    <i class=\"fa fa-file\"></i>\n",
    "    &nbsp;\n",
    "    load_params.launch\n",
    "</span>"
   ]
  },
  {
   "cell_type": "code",
   "execution_count": null,
   "metadata": {
    "collapsed": true
   },
   "outputs": [],
   "source": [
    "<?xml version=\"1.0\"?>\n",
    "<launch>\n",
    "    <rosparam file=\"/home/user/catkin_ws/src/load_params_ex/params/topics.yaml\" command=\"load\"/>\n",
    "</launch>"
   ]
  },
  {
   "cell_type": "markdown",
   "metadata": {},
   "source": [
    "Done! Compile the new package and run the launch file to load the topics to the Parameter Server:"
   ]
  },
  {
   "cell_type": "markdown",
   "metadata": {},
   "source": [
    "<span class=\"badge badge-pill badge-primary\">\n",
    "    <i class=\"fa fa-play\"></i>\n",
    "    &nbsp;\n",
    "    Execute in Shell\n",
    "</span>"
   ]
  },
  {
   "cell_type": "code",
   "execution_count": null,
   "metadata": {
    "collapsed": true
   },
   "outputs": [],
   "source": [
    "cd ~/catkin_ws\n",
    "catkin_make\n",
    "source devel/setup.bash\n",
    "roslaunch load_params_ex load_params.launch"
   ]
  },
  {
   "cell_type": "markdown",
   "metadata": {},
   "source": [
    "Run the `parameter_bridge` node:"
   ]
  },
  {
   "cell_type": "markdown",
   "metadata": {},
   "source": [
    "<span class=\"badge badge-pill badge-primary\">\n",
    "    <i class=\"fa fa-play\"></i>\n",
    "    &nbsp;\n",
    "    Execute in Shell\n",
    "</span>"
   ]
  },
  {
   "cell_type": "code",
   "execution_count": null,
   "metadata": {
    "collapsed": true
   },
   "outputs": [],
   "source": [
    "source /opt/ros/noetic/setup.bash\n",
    "source /opt/ros/foxy/setup.bash"
   ]
  },
  {
   "cell_type": "code",
   "execution_count": null,
   "metadata": {
    "collapsed": true
   },
   "outputs": [],
   "source": [
    "ros2 run ros1_bridge parameter_bridge"
   ]
  },
  {
   "cell_type": "markdown",
   "metadata": {},
   "source": [
    "<span class=\"badge badge-pill badge-primary\">\n",
    "    <i class=\"fa fa-file\"></i>\n",
    "    &nbsp;\n",
    "    Expected Output\n",
    "</span>"
   ]
  },
  {
   "cell_type": "markdown",
   "metadata": {},
   "source": [
    "<pre style=\"color: white; background: black; padding:10px; font: 1.3rem Inconsolata, monospace;\">\n",
    "Trying to create bidirectional bridge for topic '/scan' with ROS 2 type 'sensor_msgs/msg/LaserScan'\n",
    "[INFO] [1671788749.225470085] [ros_bridge]: create bidirectional bridge for topic /scan\n",
    "Trying to create bidirectional bridge for topic '/cmd_vel' with ROS 2type 'geometry_msgs/msg/Twist'\n",
    "[INFO] [1671788749.485317177] [ros_bridge]: create bidirectional bridge for topic /cmd_vel\n",
    "Trying to create bidirectional bridge for topic '/tf' with ROS 2 type'tf2_msgs/msg/TFMessage'\n",
    "[INFO] [1671788749.496807880] [ros_bridge]: create bidirectional bridge for topic /tf\n",
    "Trying to create bidirectional bridge for topic '/tf_static' with ROS2 type 'tf2_msgs/msg/TFMessage'\n",
    "[INFO] [1671788749.508927349] [ros_bridge]: create bidirectional bridge for topic /tf_static\n",
    "[INFO] [1671788749.508992119] [ros_bridge]: Setting QoS to keep all msgs for topic /tf_static.\n",
    "The parameter 'services_1_to_2' either doesn't exist or isn't an array\n",
    "The parameter 'services_2_to_1' either doesn't exist or isn't an array\n",
    "[INFO] [1671788749.806764199] [ros_bridge]: Passing message from ROS 1 sensor_msgs/LaserScan to ROS 2 sensor_msgs/msg/LaserScan (showing msg only once per type)\n",
    "[INFO] [1671788749.991413950] [ros_bridge]: Passing message from ROS 1 tf2_msgs/TFMessage to ROS 2 tf2_msgs/msg/TFMessage (showing msg onlyonce per type)\n",
    "</pre>"
   ]
  },
  {
   "cell_type": "markdown",
   "metadata": {},
   "source": [
    "Finally, verify that the topics are being appropriately bridged:"
   ]
  },
  {
   "cell_type": "markdown",
   "metadata": {},
   "source": [
    "<span class=\"badge badge-pill badge-primary\">\n",
    "    <i class=\"fa fa-play\"></i>\n",
    "    &nbsp;\n",
    "    Execute in Shell\n",
    "</span>"
   ]
  },
  {
   "cell_type": "code",
   "execution_count": null,
   "metadata": {
    "collapsed": true
   },
   "outputs": [],
   "source": [
    "ros2 topic list"
   ]
  },
  {
   "cell_type": "markdown",
   "metadata": {},
   "source": [
    "<span class=\"badge badge-pill badge-primary\">\n",
    "    <i class=\"fa fa-file\"></i>\n",
    "    &nbsp;\n",
    "    Expected Output\n",
    "</span>"
   ]
  },
  {
   "cell_type": "markdown",
   "metadata": {},
   "source": [
    "<pre style=\"color: white; background: black; padding:10px; font: 1.3rem Inconsolata, monospace;\">\n",
    "/cmd_vel\n",
    "/parameter_events\n",
    "/rosout\n",
    "/scan\n",
    "/tf\n",
    "/tf_static\n",
    "</pre>"
   ]
  },
  {
   "cell_type": "markdown",
   "metadata": {},
   "source": [
    "To ensure that you can read the messages from ROS2, try to visualize the TF and laser messages from RVIZ2:"
   ]
  },
  {
   "cell_type": "markdown",
   "metadata": {},
   "source": [
    "<span class=\"badge badge-pill badge-primary\">\n",
    "    <i class=\"fa fa-play\"></i>\n",
    "    &nbsp;\n",
    "    Execute in Shell\n",
    "</span>"
   ]
  },
  {
   "cell_type": "code",
   "execution_count": null,
   "metadata": {
    "collapsed": true
   },
   "outputs": [],
   "source": [
    "rviz2"
   ]
  },
  {
   "cell_type": "markdown",
   "metadata": {},
   "source": [
    "<span class=\"badge badge-pill badge-primary\">\n",
    "    <i class=\"fa fa-file\"></i>\n",
    "    &nbsp;\n",
    "    Expected Output\n",
    "</span>"
   ]
  },
  {
   "cell_type": "markdown",
   "metadata": {},
   "source": [
    "<img src=\"images/rviz2-bridge.png\" width=\"800\" />"
   ]
  }
 ],
 "metadata": {
  "anaconda-cloud": {},
  "kernelspec": {
   "display_name": "Python 2",
   "language": "python",
   "name": "python2"
  },
  "language_info": {
   "codemirror_mode": {
    "name": "ipython",
    "version": 2
   },
   "file_extension": ".py",
   "mimetype": "text/x-python",
   "name": "python",
   "nbconvert_exporter": "python",
   "pygments_lexer": "ipython2",
   "version": "2.7.16"
  }
 },
 "nbformat": 4,
 "nbformat_minor": 1
}
